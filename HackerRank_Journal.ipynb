{
 "cells": [
  {
   "cell_type": "code",
   "execution_count": 1,
   "metadata": {},
   "outputs": [],
   "source": [
    "import math\n",
    "import os\n",
    "import random\n",
    "import re\n",
    "import sys"
   ]
  },
  {
   "cell_type": "markdown",
   "metadata": {},
   "source": [
    "## Problem 1: FizzBuzz\n",
    "\n",
    "Given a number n, for each integer i in range from 1 to n inclusive, print one value per line as follows:\n",
    "\n",
    "- if i is a multiple of both 3 and 5, print FizzBuzz\n",
    "- if i is a multiple of 3 but not 5, print Fizz\n",
    "- if i is a multiple of 5 but not 3, print Buzz\n",
    "- if i is neither then print the value of i"
   ]
  },
  {
   "cell_type": "code",
   "execution_count": 36,
   "metadata": {},
   "outputs": [],
   "source": [
    "def fizzBuzz(n):\n",
    "    #for number in range of 1 to n:\n",
    "    #if i/3 or i/5 = whole number then fizzbuzz\n",
    "    #if i/3 is whole number then fizz\n",
    "    #if i/5 is whole number then buzz\n",
    "    #if neither then i\n",
    "    \n",
    "    for i in range(1,n+1):\n",
    "        if i%3==0 and i%5==0:\n",
    "            print('FizzBuzz')\n",
    "        elif i%3==0:\n",
    "            print('Fizz')\n",
    "        elif i%5==0:\n",
    "            print('Buzz')\n",
    "        else:\n",
    "            print(i)"
   ]
  },
  {
   "cell_type": "code",
   "execution_count": 37,
   "metadata": {},
   "outputs": [
    {
     "name": "stdout",
     "output_type": "stream",
     "text": [
      "1\n",
      "2\n",
      "Fizz\n",
      "4\n",
      "Buzz\n",
      "Fizz\n",
      "7\n",
      "8\n",
      "Fizz\n",
      "Buzz\n",
      "11\n",
      "Fizz\n",
      "13\n",
      "14\n",
      "FizzBuzz\n"
     ]
    }
   ],
   "source": [
    "fizzBuzz(15)"
   ]
  },
  {
   "cell_type": "markdown",
   "metadata": {},
   "source": [
    "## Problem 2: Python If-Else\n",
    "\n",
    "Given an integer, , perform the following conditional actions:\n",
    "\n",
    "- If n is odd, print Weird\n",
    "- If n is even and in the inclusive range of 2 to 5, print Not Weird\n",
    "- If n is even and in the inclusive range of 6 to 20, print Weird\n",
    "- If n is even and greater than 20, print Not Weird\n",
    "\n",
    "Input Format: A single line containing a positive integer n\n",
    "\n",
    "Constraints: 1 <= n <=100\n",
    "\n",
    "Output Format: Print Weird if the number is weird. Otherwise, print Not Weird.\n",
    "\n",
    "Sample Input: 3 - Weird\n",
    "\n",
    "Explanation: 3 is odd which is weird so print weird"
   ]
  },
  {
   "cell_type": "code",
   "execution_count": 22,
   "metadata": {},
   "outputs": [
    {
     "name": "stdout",
     "output_type": "stream",
     "text": [
      "Not Weird\n"
     ]
    }
   ],
   "source": [
    "n=22\n",
    "\n",
    "if n%2==1 or (n%2==0 and ((n<=20) and (n>=6))):\n",
    "    print('Weird')\n",
    "else:\n",
    "    print('Not Weird')"
   ]
  },
  {
   "cell_type": "markdown",
   "metadata": {},
   "source": [
    "# Problem 3: Function Writing Exercise\n",
    "\n",
    "An extra day is added to the calendar almost every four years as February 29, and the day is called a leap day. It corrects the calendar for the fact that our planet takes approximately 365.25 days to orbit the sun. A leap year contains a leap day.\n",
    "\n",
    "In the Gregorian calendar, three conditions are used to identify leap years:\n",
    "\n",
    "- The year can be evenly divided by 4, is a leap year, unless:\n",
    "- The year can be evenly divided by 100, it is NOT a leap year, unless:\n",
    "- The year is also evenly divisible by 400. Then it is a leap year.\n",
    "- This means that in the Gregorian calendar, the years 2000 and 2400 are leap years, while 1800, 1900, 2100, 2200, 2300 and 2500 are NOT leap years. Source\n",
    "\n",
    "Task: Given a year, determine whether it is a leap year. If it is a leap year, return the Boolean True, otherwise return False.\n",
    "\n",
    "Note that the code stub provided reads from STDIN and passes arguments to the is_leap function. It is only necessary to complete the is_leap function.\n",
    "\n",
    "Input Format: Read year, the year to test.\n",
    "\n",
    "Constraints: 1900 <= year <= 10^5\n",
    "\n",
    "Output Format: The function must return a Boolean value (True/False). Output is handled by the provided code stub.\n",
    "\n",
    "Sample Input: 1990\n",
    "\n",
    "Sample Output: False\n",
    "\n",
    "Explanation: 1990 is not a multiple of 4 hence it's not a leap year."
   ]
  },
  {
   "cell_type": "code",
   "execution_count": 50,
   "metadata": {},
   "outputs": [],
   "source": [
    "def is_leap(year):\n",
    "    if year%100==0 and year%400==0:\n",
    "        leap = True\n",
    "    elif year%100 > 1 and year%4==0:\n",
    "        leap = True\n",
    "    else:\n",
    "        leap = False\n",
    "    \n",
    "    return leap"
   ]
  },
  {
   "cell_type": "code",
   "execution_count": 53,
   "metadata": {},
   "outputs": [
    {
     "data": {
      "text/plain": [
       "False"
      ]
     },
     "execution_count": 53,
     "metadata": {},
     "output_type": "execute_result"
    }
   ],
   "source": [
    "is_leap(1990)"
   ]
  },
  {
   "cell_type": "markdown",
   "metadata": {},
   "source": [
    "# Problem 4: Merge the Tools\n",
    "\n",
    "Consider the following\n",
    "- A string 's' of length 'n' where s=c0c1 ... cn-1.\n",
    "- An integer 'k' where 'k' is a factor of 'n'.\n",
    "\n",
    "We can split 's' into 'n/k' subsegments where each subsegment, 't' , consists of a contiguous block of 'k' characters in 's'. Then, use each 't' to create string 'u' such that:\n",
    "\n",
    "- The characters in 'u' are a subsequence of the characters in 't'.\n",
    "- Any repeat occurrence of a character is removed from the string such that each character in 'u' occurs exactly once. In other words, if the character at some index 'j' in 't' occurs at a previous index '<j' in 't', then do not include the character in string 'u'.\n",
    "Given 's' and 'k' , print 'n/k' lines where each line 'i' denotes string 'u'.\n",
    "\n",
    "Input Format:\n",
    "- The first line contains a single string denoting 's'.\n",
    "- The second line contains an integer, 'k' denoting the length of each subsegment.\n",
    "\n",
    "Constraints:\n",
    "- 1<= n <=10^4 where 'n' is the length of 's'\n",
    "- 1<= k <= n\n",
    "- It is guaranteed that 'n' is a multiple of 'k'.\n",
    "\n",
    "Output Format:\n",
    "- Print 'n/k' lines where each line 'i' contains string 'u'.\n",
    "\n",
    "Sample Input\n",
    "\n",
    "AABCAAADA\n",
    "\n",
    "3  \n",
    "\n",
    "Sample Output\n",
    "\n",
    "AB\n",
    "\n",
    "CA\n",
    "\n",
    "AD\n",
    "\n",
    "Explanation\n",
    "\n",
    "String 's' is split into 'n/k'=9/3, 3 equal parts of length k=3. We convert each 't' to 'u' by removing any subsequent occurrences non-distinct characters in 't'\n",
    "\n",
    "1. t0 = \"AAB\" -> u0 = \"AB\"\n",
    "2. t1 = \"CAA\" -> u1 = \"CA\"\n",
    "3. t2 = \"ADA\" -> u2 = \"AD\"\n",
    "\n",
    "We then print each  on a new line."
   ]
  },
  {
   "cell_type": "code",
   "execution_count": 89,
   "metadata": {},
   "outputs": [],
   "source": [
    "def merge_the_tools(string, k):\n",
    "    for i in range(0,len(string),k):\n",
    "        segment = string[i:i+k]\n",
    "        new = ''\n",
    "        for i in segment:\n",
    "            if i not in new:\n",
    "                new+=i\n",
    "        print(new)"
   ]
  },
  {
   "cell_type": "code",
   "execution_count": null,
   "metadata": {},
   "outputs": [],
   "source": []
  }
 ],
 "metadata": {
  "kernelspec": {
   "display_name": "Python 3",
   "language": "python",
   "name": "python3"
  },
  "language_info": {
   "codemirror_mode": {
    "name": "ipython",
    "version": 3
   },
   "file_extension": ".py",
   "mimetype": "text/x-python",
   "name": "python",
   "nbconvert_exporter": "python",
   "pygments_lexer": "ipython3",
   "version": "3.7.4"
  }
 },
 "nbformat": 4,
 "nbformat_minor": 2
}
